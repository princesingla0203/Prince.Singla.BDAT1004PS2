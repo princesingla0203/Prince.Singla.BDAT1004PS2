{
 "cells": [
  {
   "cell_type": "markdown",
   "id": "ccf12de5",
   "metadata": {},
   "source": [
    "# BDAT 1006 PROBLEM SET 2"
   ]
  },
  {
   "cell_type": "markdown",
   "id": "1f48c531",
   "metadata": {},
   "source": [
    "Submitted By: Prince Singla (200552656)"
   ]
  },
  {
   "cell_type": "markdown",
   "id": "e73d97e5",
   "metadata": {},
   "source": [
    "# Question 1: \n",
    "\n",
    "Consider the following Python module:\n",
    "a = 0 def b():\n",
    "global a\n",
    "a = c(a)\n",
    "def c(a):\n",
    "return a + 2\n",
    "After importing the module into the interpreter, you execute:\n",
    "What value is displayed when the last expression (a) is evaluated? Explain your answer by indicating what happens in every executed statement."
   ]
  },
  {
   "cell_type": "code",
   "execution_count": 1,
   "id": "1f5eaca4",
   "metadata": {},
   "outputs": [
    {
     "data": {
      "text/plain": [
       "6"
      ]
     },
     "execution_count": 1,
     "metadata": {},
     "output_type": "execute_result"
    }
   ],
   "source": [
    "a = 0\n",
    "\n",
    "def b():\n",
    "    global a\n",
    "    a = c(a)\n",
    "\n",
    "def c(a):\n",
    "    return a + 2\n",
    "\n",
    "b()\n",
    "b()\n",
    "b()\n",
    "a"
   ]
  },
  {
   "cell_type": "markdown",
   "id": "1b8eb4d8",
   "metadata": {},
   "source": [
    "The value displayed when the last expression is evaluated is 6. In the initial step, a is assigned value of 0. Then variable b is introduced and a is assigned as a global variable. b variable uses c variable which adds 2 to the value of a. Then the b function is called 3 times and finally the value of a is printed.\n",
    "So in the first output of b() the output would have been 2. Since the command is iterated 3 times hence the final output will be 6."
   ]
  },
  {
   "cell_type": "markdown",
   "id": "8c1404f9",
   "metadata": {},
   "source": [
    "# Question 2:\n",
    "\n",
    "Function fileLength(), given to you, takes the name of a file as input and returns the length of the file:As shown above, if the file cannot be found by the interpreter or if it cannot be read as a text file, an exception will be raised. Modify function fileLength() so that a friendly message is printed instead:"
   ]
  },
  {
   "cell_type": "code",
   "execution_count": 2,
   "id": "3b7e5c40",
   "metadata": {},
   "outputs": [],
   "source": [
    "def fileLength(a):                                         \n",
    "    try:                                                    \n",
    "        f1 = open(a, \"r\")                                     \n",
    "        f2 = f1.read()                                               \n",
    "        print('The filelength is '+ str(len(f2)))         \n",
    "        f1.close()                                                   \n",
    "    except:                                                           \n",
    "        print('File '+a+' not found') "
   ]
  },
  {
   "cell_type": "code",
   "execution_count": 3,
   "id": "1fd2e7bb",
   "metadata": {},
   "outputs": [
    {
     "name": "stdout",
     "output_type": "stream",
     "text": [
      "The filelength is 461\n"
     ]
    }
   ],
   "source": [
    "fileLength('Midterm.py')"
   ]
  },
  {
   "cell_type": "code",
   "execution_count": 4,
   "id": "ebe91717",
   "metadata": {},
   "outputs": [
    {
     "name": "stdout",
     "output_type": "stream",
     "text": [
      "File idterm.py not found\n"
     ]
    }
   ],
   "source": [
    "fileLength('idterm.py')"
   ]
  },
  {
   "cell_type": "markdown",
   "id": "20bdfce4",
   "metadata": {},
   "source": [
    "# Question 3"
   ]
  },
  {
   "cell_type": "markdown",
   "id": "1fc91ad4",
   "metadata": {},
   "source": [
    "Write a class named Marsupial that can be used as shown below:"
   ]
  },
  {
   "cell_type": "code",
   "execution_count": 5,
   "id": "e3ad61d5",
   "metadata": {},
   "outputs": [],
   "source": [
    "class Marsupial(object):                     \n",
    "  \n",
    "    def __init__(self):                               \n",
    "        self.contents = []                     \n",
    "    def put_in_pouch(self, item):             \n",
    "        self.contents.append(item)\n",
    "    def pouch_contents(self):                \n",
    "        return self.contents "
   ]
  },
  {
   "cell_type": "code",
   "execution_count": 6,
   "id": "c1541eba",
   "metadata": {},
   "outputs": [
    {
     "data": {
      "text/plain": [
       "['doll', 'firetruck', 'kitten']"
      ]
     },
     "execution_count": 6,
     "metadata": {},
     "output_type": "execute_result"
    }
   ],
   "source": [
    "a = Marsupial()\n",
    "a.put_in_pouch('doll')\n",
    "a.put_in_pouch('firetruck')\n",
    "a.put_in_pouch('kitten')\n",
    "a.pouch_contents()"
   ]
  },
  {
   "cell_type": "markdown",
   "id": "ef5ab327",
   "metadata": {},
   "source": [
    "Now write a class named Kangaroo as a subclass of Marsupial that inherits all the attributes of Marsupial"
   ]
  },
  {
   "cell_type": "code",
   "execution_count": 7,
   "id": "2640fb45",
   "metadata": {},
   "outputs": [],
   "source": [
    "class Kangaroo(Marsupial):                      \n",
    "    \n",
    "    def __init__(self,x,y):                                     \n",
    "        Marsupial.__init__(self)                 \n",
    "        self.x = x                                \n",
    "        self.y = y\n",
    "                                  \n",
    "    def jump(self,dx,dy):                         \n",
    "        self.x = self.x + dx\n",
    "        self.y = self.y + dy\n",
    "        \n",
    "    def __str__(self):                           \n",
    "        return 'I am a Kangaroo located at coordinates ({},{})'.format(self.x,self.y)"
   ]
  },
  {
   "cell_type": "markdown",
   "id": "307b4b0f",
   "metadata": {},
   "source": [
    "a. extends the Marsupial __init__ constructor to take, as input, the\n",
    "coordinates x and y of the Kangaroo object,"
   ]
  },
  {
   "cell_type": "code",
   "execution_count": 8,
   "id": "e3f9ebb9",
   "metadata": {},
   "outputs": [
    {
     "name": "stdout",
     "output_type": "stream",
     "text": [
      "I am a Kangaroo located at coordinates (2,3)\n"
     ]
    }
   ],
   "source": [
    "b = Kangaroo(2,3)\n",
    "print(b)"
   ]
  },
  {
   "cell_type": "markdown",
   "id": "ccbab2f3",
   "metadata": {},
   "source": [
    "b) supports method jump that takes number values dx and dy as input and moves the kangaroo by dx units along the x-axis and by dy units along the y- axis"
   ]
  },
  {
   "cell_type": "code",
   "execution_count": 9,
   "id": "85ccb717",
   "metadata": {},
   "outputs": [
    {
     "data": {
      "text/plain": [
       "['doll', 'firetruck', 'kitten']"
      ]
     },
     "execution_count": 9,
     "metadata": {},
     "output_type": "execute_result"
    }
   ],
   "source": [
    "b.put_in_pouch('doll')\n",
    "b.put_in_pouch('firetruck')\n",
    "b.put_in_pouch('kitten')\n",
    "b.pouch_contents()"
   ]
  },
  {
   "cell_type": "markdown",
   "id": "2da9107f",
   "metadata": {},
   "source": [
    "c) overloads the __str__ operator so it behaves as shown below."
   ]
  },
  {
   "cell_type": "code",
   "execution_count": 10,
   "id": "5a124ca6",
   "metadata": {},
   "outputs": [
    {
     "name": "stdout",
     "output_type": "stream",
     "text": [
      "I am a Kangaroo located at coordinates (5,9)\n"
     ]
    }
   ],
   "source": [
    "b.jump(1,2)\n",
    "b.jump(1,2)\n",
    "b.jump(1,2)\n",
    "print(b)"
   ]
  },
  {
   "cell_type": "markdown",
   "id": "d41988cd",
   "metadata": {},
   "source": [
    "# Question 4"
   ]
  },
  {
   "cell_type": "markdown",
   "id": "db19d316",
   "metadata": {},
   "source": [
    "Write function collatz() that takes a positive integer x as input and prints the Collatz sequence starting at x. A Collatz sequence is obtained by repeatedly applying this rule to the previous number x in the sequence:\n",
    "x = { 𝑥/2 𝑖𝑓 𝑥 𝑖𝑠 𝑒𝑣𝑒𝑛3𝑥+1 𝑖𝑓 𝑥 𝑖𝑠 𝑜𝑑𝑑\n",
    "Your function should stop when the sequence gets to number 1. Your implementation must be recursive, without any loops."
   ]
  },
  {
   "cell_type": "code",
   "execution_count": 11,
   "id": "0a5166dd",
   "metadata": {},
   "outputs": [],
   "source": [
    "def collatz(a):                  \n",
    "   \n",
    "    if a != 1:                   \n",
    "        if a%2!=0:                \n",
    "            print(int(a))         \n",
    "            collatz(3*a+1)       \n",
    "        \n",
    "        else:\n",
    "            print(int(a))         \n",
    "            collatz(a/2)          \n",
    "  \n",
    "    else:\n",
    "        print(int(a));"
   ]
  },
  {
   "cell_type": "code",
   "execution_count": 12,
   "id": "9b5d3ee5",
   "metadata": {},
   "outputs": [
    {
     "name": "stdout",
     "output_type": "stream",
     "text": [
      "1\n"
     ]
    }
   ],
   "source": [
    "collatz(1)"
   ]
  },
  {
   "cell_type": "code",
   "execution_count": 13,
   "id": "6205ed86",
   "metadata": {},
   "outputs": [
    {
     "name": "stdout",
     "output_type": "stream",
     "text": [
      "10\n",
      "5\n",
      "16\n",
      "8\n",
      "4\n",
      "2\n",
      "1\n"
     ]
    }
   ],
   "source": [
    "collatz(10)"
   ]
  },
  {
   "cell_type": "markdown",
   "id": "192f4552",
   "metadata": {},
   "source": [
    "# Question 5"
   ]
  },
  {
   "cell_type": "markdown",
   "id": "056bcf1d",
   "metadata": {},
   "source": [
    "Write a recursive method binary() that takes a non-negative integer n and prints the binary representation of integer n."
   ]
  },
  {
   "cell_type": "code",
   "execution_count": 15,
   "id": "73095606",
   "metadata": {},
   "outputs": [],
   "source": [
    "def binary(a):\n",
    "    \n",
    "    if a>0:                          \n",
    "        return (a % 2 + 10*binary(int(a // 2)))\n",
    "       \n",
    "    else:\n",
    "         return 0"
   ]
  },
  {
   "cell_type": "code",
   "execution_count": 16,
   "id": "f33ecf51",
   "metadata": {},
   "outputs": [
    {
     "data": {
      "text/plain": [
       "0"
      ]
     },
     "execution_count": 16,
     "metadata": {},
     "output_type": "execute_result"
    }
   ],
   "source": [
    "binary(0)"
   ]
  },
  {
   "cell_type": "code",
   "execution_count": 17,
   "id": "a650e9f0",
   "metadata": {},
   "outputs": [
    {
     "data": {
      "text/plain": [
       "1"
      ]
     },
     "execution_count": 17,
     "metadata": {},
     "output_type": "execute_result"
    }
   ],
   "source": [
    "binary(1)"
   ]
  },
  {
   "cell_type": "code",
   "execution_count": 18,
   "id": "4d11a88a",
   "metadata": {},
   "outputs": [
    {
     "data": {
      "text/plain": [
       "11"
      ]
     },
     "execution_count": 18,
     "metadata": {},
     "output_type": "execute_result"
    }
   ],
   "source": [
    "binary(3)"
   ]
  },
  {
   "cell_type": "code",
   "execution_count": 19,
   "id": "bb7c06aa",
   "metadata": {},
   "outputs": [
    {
     "data": {
      "text/plain": [
       "1001"
      ]
     },
     "execution_count": 19,
     "metadata": {},
     "output_type": "execute_result"
    }
   ],
   "source": [
    "binary(9)"
   ]
  },
  {
   "cell_type": "markdown",
   "id": "e0446fc8",
   "metadata": {},
   "source": [
    "# Question 6"
   ]
  },
  {
   "cell_type": "markdown",
   "id": "d4b314de",
   "metadata": {},
   "source": [
    "Implement a class named HeadingParser that can be used to parse an HTML document, and retrieve and print all the headings in the document. You should implement your class as a subclass of HTMLParser, defined in Standard Library module html.parser. When fed a string containing HTML code, your class should print the headings, one per line and in the order in which they appear in the document. Each heading should be indented as follows: an h1 heading should have indentation 0, and h2 heading should have indentation 1, etc. Test your implementation using w3c.html."
   ]
  },
  {
   "cell_type": "code",
   "execution_count": 20,
   "id": "db883504",
   "metadata": {},
   "outputs": [],
   "source": [
    "from html.parser import HTMLParser   \n",
    "\n",
    "class HeadingParser(HTMLParser): \n",
    "    \n",
    "    def __init__(self):                                                 \n",
    "        HTMLParser.__init__(self)                           \n",
    "        self.head =0                                                          \n",
    "        self.intend = \"\"\n",
    "        \n",
    "    def handle_starttag(self, tag, attributes):              \n",
    "        if tag[:-1]=='h':\n",
    "            self.head = 'type'\n",
    "            \n",
    "    def handle_data(self, data):                             \n",
    "        if self.head==\"type\":\n",
    "            \n",
    "            print(self.intend+ data)                         \n",
    "            self.intend+= \"    \"\n",
    "            self.head=0 "
   ]
  },
  {
   "cell_type": "code",
   "execution_count": 21,
   "id": "43380b15",
   "metadata": {},
   "outputs": [
    {
     "name": "stdout",
     "output_type": "stream",
     "text": [
      "W3C Mission\n",
      "    Principles\n"
     ]
    }
   ],
   "source": [
    "infile = open('w3c.html')\n",
    "content = infile.read()\n",
    "infile.close()\n",
    "hp = HeadingParser()\n",
    "hp.feed(content)"
   ]
  },
  {
   "cell_type": "markdown",
   "id": "4443fe04",
   "metadata": {},
   "source": [
    "# Question 7"
   ]
  },
  {
   "cell_type": "markdown",
   "id": "91fd99e3",
   "metadata": {},
   "source": [
    "Implement recursive function webdir() that takes as input: a URL (as a string) and non-negative integers depth and indent. Your function should visit every web page reachable from the starting URL web page in depth clicks or less, and print each web page's URL. As shown below, indentation, specified by indent, should be used to indicate the depth of a URL."
   ]
  },
  {
   "cell_type": "code",
   "execution_count": 28,
   "id": "f75f6326",
   "metadata": {},
   "outputs": [],
   "source": [
    "from urllib.parse import urljoin \n",
    "from urllib.request import urlopen\n",
    "from html.parser import HTMLParser\n",
    "\n",
    "class Collector(HTMLParser):\n",
    "\n",
    "  def __init__(self,url):\n",
    "    super().__init__()\n",
    "    self.url = url\n",
    "    self.links = []\n",
    "        \n",
    "  def handle_starttag(self, tag, attrs):\n",
    "    if tag == 'a':\n",
    "      for attr in attrs:\n",
    "        if attr[0] == 'href':\n",
    "          absolute = urljoin(self.url, attr[1])\n",
    "          if absolute[:4] == 'http':\n",
    "            self.links.append(absolute)\n",
    "                        \n",
    "  def getLinks(self):\n",
    "    return self.links\n",
    "    \n",
    "\n",
    "def webdir(url, depth, indent):\n",
    "    if depth < 0:\n",
    "    pass\n",
    "    \n",
    "    print(\"\\t\"*indent + url)\n",
    "    resource = urlopen(url)\n",
    "    content = resource.read().decode()\n",
    "    collector = Collector(url)\n",
    "    collector.feed(content)\n",
    "    links = collector.getLinks()   \n",
    "    \n",
    "    for link in links:\n",
    "    webdir(link, depth-1, indent+1)\n"
   ]
  },
  {
   "cell_type": "code",
   "execution_count": 29,
   "id": "e4708331",
   "metadata": {},
   "outputs": [
    {
     "name": "stdout",
     "output_type": "stream",
     "text": [
      "http://reed.cs.depaul.edu/lperkovic/test1.html\n",
      "\thttp://reed.cs.depaul.edu/lperkovic/test2.html\n",
      "\t\thttp://reed.cs.depaul.edu/lperkovic/test4.html\n",
      "\thttp://reed.cs.depaul.edu/lperkovic/test3.html\n",
      "\t\thttp://reed.cs.depaul.edu/lperkovic/test4.html\n"
     ]
    }
   ],
   "source": [
    "webdir('http://reed.cs.depaul.edu/lperkovic/test1.html', 0, 0)"
   ]
  },
  {
   "cell_type": "markdown",
   "id": "daab616e",
   "metadata": {},
   "source": [
    "# Question 8"
   ]
  },
  {
   "cell_type": "markdown",
   "id": "20b5e3c5",
   "metadata": {},
   "source": [
    "Write SQL queries on the below database table that return"
   ]
  },
  {
   "cell_type": "code",
   "execution_count": 46,
   "id": "6bf50a46",
   "metadata": {},
   "outputs": [],
   "source": [
    "import sqlite3\n",
    "a = sqlite3.connect('database_q8')\n",
    "b = a.cursor()\n",
    "b.execute(\"Create Table data1 (City, Country, Season, Temperature, Rainfall)\")\n",
    "b.execute(\"Insert into data1 values ('Mumbai', 'India', 'Winter', 24.8, 5.9)\")\n",
    "b.execute(\"Insert into data1 values ('Mumbai', 'India', 'Spring', 28.4, 16.2)\")\n",
    "b.execute(\"Insert into data1 values ('Mumbai', 'India', 'Summer', 27.9, 1549.4)\")\n",
    "b.execute(\"Insert into data1 values ('Mumbai', 'India', 'Fall', 27.6, 346.0)\")\n",
    "b.execute(\"Insert into data1 values ('London', 'United Kingdom', 'Winter', 4.2, 207.7)\")\n",
    "b.execute(\"Insert into data1 values ('London', 'United Kingdom', 'Spring', 8.3, 169.6)\")\n",
    "b.execute(\"Insert into data1 values ('London', 'United Kingdom', 'Summer', 15.7, 157.0)\")\n",
    "b.execute(\"Insert into data1 values ('London', 'United Kingdom', 'Fall', 10.4, 218.5)\")\n",
    "b.execute(\"Insert into data1 values ('Cairo', 'Egypt', 'Winter', 13.6, 16.5)\")\n",
    "b.execute(\"Insert into data1 values ('Cairo', 'Egypt', 'Spring', 20.7, 6.5)\")\n",
    "b.execute(\"Insert into data1 values ('Cairo', 'Egypt', 'Summer', 27.7, 0.1)\")\n",
    "b.execute(\"Insert into data1 values ('Cairo', 'Egypt', 'Fall', 22.2, 4.5)\")\n",
    "a.commit()\n",
    "a.close()"
   ]
  },
  {
   "cell_type": "markdown",
   "id": "848a6269",
   "metadata": {},
   "source": [
    "a) All the temperature data."
   ]
  },
  {
   "cell_type": "code",
   "execution_count": 47,
   "id": "5a545a9f",
   "metadata": {},
   "outputs": [
    {
     "name": "stdout",
     "output_type": "stream",
     "text": [
      "(24.8,)\n",
      "(28.4,)\n",
      "(27.9,)\n",
      "(27.6,)\n",
      "(4.2,)\n",
      "(8.3,)\n",
      "(15.7,)\n",
      "(10.4,)\n",
      "(13.6,)\n",
      "(20.7,)\n",
      "(27.7,)\n",
      "(22.2,)\n"
     ]
    }
   ],
   "source": [
    "import sqlite3\n",
    "a = sqlite3.connect('database_q8')\n",
    "b = a.cursor()\n",
    "b.execute('Select Temperature from data1')\n",
    "for record in b:\n",
    "    print(record)"
   ]
  },
  {
   "cell_type": "markdown",
   "id": "92567540",
   "metadata": {},
   "source": [
    "b) All the cities, but without repetition."
   ]
  },
  {
   "cell_type": "code",
   "execution_count": 48,
   "id": "f5f7af72",
   "metadata": {},
   "outputs": [
    {
     "name": "stdout",
     "output_type": "stream",
     "text": [
      "('Mumbai',)\n",
      "('London',)\n",
      "('Cairo',)\n"
     ]
    }
   ],
   "source": [
    "import sqlite3\n",
    "a = sqlite3.connect('database_q8')\n",
    "b = a.cursor()\n",
    "b.execute('Select distinct City from data1')\n",
    "for record in b:\n",
    "    print(record)"
   ]
  },
  {
   "cell_type": "markdown",
   "id": "f582cb4a",
   "metadata": {},
   "source": [
    "c) All the records for India."
   ]
  },
  {
   "cell_type": "code",
   "execution_count": 49,
   "id": "7f7ec38e",
   "metadata": {},
   "outputs": [
    {
     "name": "stdout",
     "output_type": "stream",
     "text": [
      "('Mumbai', 'India', 'Winter', 24.8, 5.9)\n",
      "('Mumbai', 'India', 'Spring', 28.4, 16.2)\n",
      "('Mumbai', 'India', 'Summer', 27.9, 1549.4)\n",
      "('Mumbai', 'India', 'Fall', 27.6, 346.0)\n"
     ]
    }
   ],
   "source": [
    "import sqlite3\n",
    "a = sqlite3.connect('database_q8')\n",
    "b = a.cursor()\n",
    "b.execute('Select * from data1 where Country=\"India\"')\n",
    "for record in b:\n",
    "    print(record)"
   ]
  },
  {
   "cell_type": "markdown",
   "id": "8381970b",
   "metadata": {},
   "source": [
    "d) All the Fall records."
   ]
  },
  {
   "cell_type": "code",
   "execution_count": 50,
   "id": "fa58deb6",
   "metadata": {},
   "outputs": [
    {
     "name": "stdout",
     "output_type": "stream",
     "text": [
      "('Mumbai', 'India', 'Fall', 27.6, 346.0)\n",
      "('London', 'United Kingdom', 'Fall', 10.4, 218.5)\n",
      "('Cairo', 'Egypt', 'Fall', 22.2, 4.5)\n"
     ]
    }
   ],
   "source": [
    "import sqlite3\n",
    "a = sqlite3.connect('database_q8')\n",
    "b = a.cursor()\n",
    "b.execute('Select * from data1 where Season=\"Fall\"')\n",
    "for record in b:\n",
    "    print(record)"
   ]
  },
  {
   "cell_type": "markdown",
   "id": "90686788",
   "metadata": {},
   "source": [
    "e) The city, country, and season for which the average rainfall is between 200 and 400 millimeters."
   ]
  },
  {
   "cell_type": "code",
   "execution_count": 51,
   "id": "ad65b898",
   "metadata": {},
   "outputs": [
    {
     "name": "stdout",
     "output_type": "stream",
     "text": [
      "('Mumbai', 'India', 'Fall')\n",
      "('London', 'United Kingdom', 'Winter')\n",
      "('London', 'United Kingdom', 'Fall')\n"
     ]
    }
   ],
   "source": [
    "import sqlite3\n",
    "a = sqlite3.connect('database_q8')\n",
    "b = a.cursor()\n",
    "b.execute('Select City, Country, season from data1 where (rainfall>200) and (rainfall<400)')\n",
    "for record in b:\n",
    "    print(record)"
   ]
  },
  {
   "cell_type": "markdown",
   "id": "34dd792e",
   "metadata": {},
   "source": [
    "f) The city and country for which the average Fall temperature is above 20 degrees, in increasing temperature order."
   ]
  },
  {
   "cell_type": "code",
   "execution_count": 65,
   "id": "024b767f",
   "metadata": {},
   "outputs": [
    {
     "name": "stdout",
     "output_type": "stream",
     "text": [
      "('Cairo', 'Egypt')\n",
      "('Mumbai', 'India')\n"
     ]
    }
   ],
   "source": [
    "import sqlite3\n",
    "a = sqlite3.connect('database_q8')\n",
    "b = a.cursor()\n",
    "b.execute('Select City, Country from data1 where (Season =\"Fall\") and (Temperature>20) order by temperature asc')\n",
    "for record in b:\n",
    "    print(record)"
   ]
  },
  {
   "cell_type": "markdown",
   "id": "5086fde5",
   "metadata": {},
   "source": [
    "g) The total annual rainfall for Cairo."
   ]
  },
  {
   "cell_type": "code",
   "execution_count": 53,
   "id": "eaa7ed20",
   "metadata": {},
   "outputs": [
    {
     "name": "stdout",
     "output_type": "stream",
     "text": [
      "[(27.6,)]\n"
     ]
    }
   ],
   "source": [
    "import sqlite3\n",
    "a = sqlite3.connect('database_q8')\n",
    "b = a.cursor()\n",
    "b.execute('Select Sum(Rainfall) from data1 where City=\"Cairo\"')\n",
    "rainfall_new=b.fetchall()\n",
    "print(rainfall_new)"
   ]
  },
  {
   "cell_type": "markdown",
   "id": "a01c20af",
   "metadata": {},
   "source": [
    "h) The total rainfall for each season."
   ]
  },
  {
   "cell_type": "code",
   "execution_count": 70,
   "id": "43192362",
   "metadata": {},
   "outputs": [
    {
     "name": "stdout",
     "output_type": "stream",
     "text": [
      "(569.0, 'Fall')\n",
      "(192.29999999999998, 'Spring')\n",
      "(1706.5, 'Summer')\n",
      "(230.1, 'Winter')\n"
     ]
    }
   ],
   "source": [
    "import sqlite3\n",
    "a = sqlite3.connect('database_q8')\n",
    "b = a.cursor()\n",
    "b.execute(\"SELECT Sum(Rainfall), Season FROM data1 GROUP BY Season\")\n",
    "for record in b:\n",
    "    print(record)"
   ]
  },
  {
   "cell_type": "markdown",
   "id": "f39dfd8a",
   "metadata": {},
   "source": [
    "# Question 9"
   ]
  },
  {
   "cell_type": "markdown",
   "id": "7c4b2e65",
   "metadata": {},
   "source": [
    "Suppose list words is defined as follows:\n",
    "words = ['The', 'quick', 'brown', 'fox', 'jumps', 'over', 'the', 'lazy', 'dog']\n",
    "Write list comprehension expressions that use list words and generate the following lists:"
   ]
  },
  {
   "cell_type": "markdown",
   "id": "ba07979f",
   "metadata": {},
   "source": [
    "a) ['THE', 'QUICK', 'BROWN', 'FOX', 'JUMPS', 'OVER', 'THE', 'LAZY', 'DOG']"
   ]
  },
  {
   "cell_type": "code",
   "execution_count": 58,
   "id": "903ab109",
   "metadata": {},
   "outputs": [
    {
     "data": {
      "text/plain": [
       "['THE', 'QUICK', 'BROWN', 'FOX', 'JUMPS', 'OVER', 'THE', 'LAZY', 'DOG']"
      ]
     },
     "execution_count": 58,
     "metadata": {},
     "output_type": "execute_result"
    }
   ],
   "source": [
    "words = ['The', 'quick', 'brown', 'fox', 'jumps', 'over', 'the', 'lazy', 'dog']\n",
    "[a.upper() for a in words]"
   ]
  },
  {
   "cell_type": "markdown",
   "id": "5eef2769",
   "metadata": {},
   "source": [
    "b) ['the', 'quick', 'brown', 'fox', 'jumps', 'over', 'the', 'lazy', 'dog']"
   ]
  },
  {
   "cell_type": "code",
   "execution_count": 59,
   "id": "c767e896",
   "metadata": {},
   "outputs": [
    {
     "data": {
      "text/plain": [
       "['the', 'quick', 'brown', 'fox', 'jumps', 'over', 'the', 'lazy', 'dog']"
      ]
     },
     "execution_count": 59,
     "metadata": {},
     "output_type": "execute_result"
    }
   ],
   "source": [
    "[a.lower() for a in words]"
   ]
  },
  {
   "cell_type": "markdown",
   "id": "e847d7f7",
   "metadata": {},
   "source": [
    "c) [3, 5, 5, 3, 5, 4, 3, 4, 3] (the list of lengths of words in list words)."
   ]
  },
  {
   "cell_type": "code",
   "execution_count": 60,
   "id": "98dd7683",
   "metadata": {},
   "outputs": [
    {
     "data": {
      "text/plain": [
       "[3, 5, 5, 3, 5, 4, 3, 4, 3]"
      ]
     },
     "execution_count": 60,
     "metadata": {},
     "output_type": "execute_result"
    }
   ],
   "source": [
    "[len(a) for a in words]"
   ]
  },
  {
   "cell_type": "markdown",
   "id": "a1a6633d",
   "metadata": {},
   "source": [
    "d) [['THE', 'the', 3], ['QUICK', 'quick', 5], ['BROWN', 'brown', 5], ['FOX', 'fox', 3], ['JUMPS', 'jumps', 5], ['OVER', 'over', 4], ['THE', 'the', 3], ['LAZY', 'lazy', 4], ['DOG', 'dog', 3]] (the list containing a list for every word of list words, where each list contains the word in uppercase and lowercase and the length of the word.)"
   ]
  },
  {
   "cell_type": "code",
   "execution_count": 61,
   "id": "9e9e98c3",
   "metadata": {},
   "outputs": [
    {
     "data": {
      "text/plain": [
       "[['THE', 'the', 3],\n",
       " ['QUICK', 'quick', 5],\n",
       " ['BROWN', 'brown', 5],\n",
       " ['FOX', 'fox', 3],\n",
       " ['JUMPS', 'jumps', 5],\n",
       " ['OVER', 'over', 4],\n",
       " ['THE', 'the', 3],\n",
       " ['LAZY', 'lazy', 4],\n",
       " ['DOG', 'dog', 3]]"
      ]
     },
     "execution_count": 61,
     "metadata": {},
     "output_type": "execute_result"
    }
   ],
   "source": [
    "[[a.upper(),a.lower(),len(a)] for a in words]"
   ]
  },
  {
   "cell_type": "markdown",
   "id": "8d1fa257",
   "metadata": {},
   "source": [
    "e) ['The', 'quick', 'brown', 'fox', 'jumps', 'over', 'the', 'lazy', 'dog'] (the list of words in list words containing 4 or more characters.)"
   ]
  },
  {
   "cell_type": "code",
   "execution_count": 62,
   "id": "d73d10a8",
   "metadata": {},
   "outputs": [
    {
     "data": {
      "text/plain": [
       "['quick', 'brown', 'jumps', 'over', 'lazy']"
      ]
     },
     "execution_count": 62,
     "metadata": {},
     "output_type": "execute_result"
    }
   ],
   "source": [
    "[a for a in words if len(a) >= 4]"
   ]
  },
  {
   "cell_type": "code",
   "execution_count": null,
   "id": "4807102f",
   "metadata": {},
   "outputs": [],
   "source": []
  }
 ],
 "metadata": {
  "kernelspec": {
   "display_name": "Python 3 (ipykernel)",
   "language": "python",
   "name": "python3"
  },
  "language_info": {
   "codemirror_mode": {
    "name": "ipython",
    "version": 3
   },
   "file_extension": ".py",
   "mimetype": "text/x-python",
   "name": "python",
   "nbconvert_exporter": "python",
   "pygments_lexer": "ipython3",
   "version": "3.10.9"
  }
 },
 "nbformat": 4,
 "nbformat_minor": 5
}
